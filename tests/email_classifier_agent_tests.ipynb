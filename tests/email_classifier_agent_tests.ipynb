{
 "cells": [
  {
   "cell_type": "code",
   "execution_count": 1,
   "id": "4178283c",
   "metadata": {},
   "outputs": [
    {
     "name": "stdout",
     "output_type": "stream",
     "text": [
      "Requirement already satisfied: google-api-python-client in c:\\repos\\aicourse\\personalfinanceagent\\venv\\lib\\site-packages (2.167.0)\n",
      "Requirement already satisfied: httplib2<1.0.0,>=0.19.0 in c:\\repos\\aicourse\\personalfinanceagent\\venv\\lib\\site-packages (from google-api-python-client) (0.22.0)\n",
      "Requirement already satisfied: google-auth!=2.24.0,!=2.25.0,<3.0.0,>=1.32.0 in c:\\repos\\aicourse\\personalfinanceagent\\venv\\lib\\site-packages (from google-api-python-client) (2.39.0)\n",
      "Requirement already satisfied: google-auth-httplib2<1.0.0,>=0.2.0 in c:\\repos\\aicourse\\personalfinanceagent\\venv\\lib\\site-packages (from google-api-python-client) (0.2.0)\n",
      "Requirement already satisfied: google-api-core!=2.0.*,!=2.1.*,!=2.2.*,!=2.3.0,<3.0.0,>=1.31.5 in c:\\repos\\aicourse\\personalfinanceagent\\venv\\lib\\site-packages (from google-api-python-client) (2.24.2)\n",
      "Requirement already satisfied: uritemplate<5,>=3.0.1 in c:\\repos\\aicourse\\personalfinanceagent\\venv\\lib\\site-packages (from google-api-python-client) (4.1.1)\n",
      "Requirement already satisfied: googleapis-common-protos<2.0.0,>=1.56.2 in c:\\repos\\aicourse\\personalfinanceagent\\venv\\lib\\site-packages (from google-api-core!=2.0.*,!=2.1.*,!=2.2.*,!=2.3.0,<3.0.0,>=1.31.5->google-api-python-client) (1.70.0)\n",
      "Requirement already satisfied: protobuf!=3.20.0,!=3.20.1,!=4.21.0,!=4.21.1,!=4.21.2,!=4.21.3,!=4.21.4,!=4.21.5,<7.0.0,>=3.19.5 in c:\\repos\\aicourse\\personalfinanceagent\\venv\\lib\\site-packages (from google-api-core!=2.0.*,!=2.1.*,!=2.2.*,!=2.3.0,<3.0.0,>=1.31.5->google-api-python-client) (5.29.4)\n",
      "Requirement already satisfied: proto-plus<2.0.0,>=1.22.3 in c:\\repos\\aicourse\\personalfinanceagent\\venv\\lib\\site-packages (from google-api-core!=2.0.*,!=2.1.*,!=2.2.*,!=2.3.0,<3.0.0,>=1.31.5->google-api-python-client) (1.26.1)\n",
      "Requirement already satisfied: requests<3.0.0,>=2.18.0 in c:\\repos\\aicourse\\personalfinanceagent\\venv\\lib\\site-packages (from google-api-core!=2.0.*,!=2.1.*,!=2.2.*,!=2.3.0,<3.0.0,>=1.31.5->google-api-python-client) (2.32.3)\n",
      "Requirement already satisfied: cachetools<6.0,>=2.0.0 in c:\\repos\\aicourse\\personalfinanceagent\\venv\\lib\\site-packages (from google-auth!=2.24.0,!=2.25.0,<3.0.0,>=1.32.0->google-api-python-client) (5.5.2)\n",
      "Requirement already satisfied: pyasn1-modules>=0.2.1 in c:\\repos\\aicourse\\personalfinanceagent\\venv\\lib\\site-packages (from google-auth!=2.24.0,!=2.25.0,<3.0.0,>=1.32.0->google-api-python-client) (0.4.2)\n",
      "Requirement already satisfied: rsa<5,>=3.1.4 in c:\\repos\\aicourse\\personalfinanceagent\\venv\\lib\\site-packages (from google-auth!=2.24.0,!=2.25.0,<3.0.0,>=1.32.0->google-api-python-client) (4.9.1)\n",
      "Requirement already satisfied: pyparsing!=3.0.0,!=3.0.1,!=3.0.2,!=3.0.3,<4,>=2.4.2 in c:\\repos\\aicourse\\personalfinanceagent\\venv\\lib\\site-packages (from httplib2<1.0.0,>=0.19.0->google-api-python-client) (3.2.3)\n",
      "Requirement already satisfied: pyasn1<0.7.0,>=0.6.1 in c:\\repos\\aicourse\\personalfinanceagent\\venv\\lib\\site-packages (from pyasn1-modules>=0.2.1->google-auth!=2.24.0,!=2.25.0,<3.0.0,>=1.32.0->google-api-python-client) (0.6.1)\n",
      "Requirement already satisfied: charset-normalizer<4,>=2 in c:\\repos\\aicourse\\personalfinanceagent\\venv\\lib\\site-packages (from requests<3.0.0,>=2.18.0->google-api-core!=2.0.*,!=2.1.*,!=2.2.*,!=2.3.0,<3.0.0,>=1.31.5->google-api-python-client) (3.4.1)\n",
      "Requirement already satisfied: idna<4,>=2.5 in c:\\repos\\aicourse\\personalfinanceagent\\venv\\lib\\site-packages (from requests<3.0.0,>=2.18.0->google-api-core!=2.0.*,!=2.1.*,!=2.2.*,!=2.3.0,<3.0.0,>=1.31.5->google-api-python-client) (3.10)\n",
      "Requirement already satisfied: urllib3<3,>=1.21.1 in c:\\repos\\aicourse\\personalfinanceagent\\venv\\lib\\site-packages (from requests<3.0.0,>=2.18.0->google-api-core!=2.0.*,!=2.1.*,!=2.2.*,!=2.3.0,<3.0.0,>=1.31.5->google-api-python-client) (2.4.0)\n",
      "Requirement already satisfied: certifi>=2017.4.17 in c:\\repos\\aicourse\\personalfinanceagent\\venv\\lib\\site-packages (from requests<3.0.0,>=2.18.0->google-api-core!=2.0.*,!=2.1.*,!=2.2.*,!=2.3.0,<3.0.0,>=1.31.5->google-api-python-client) (2025.1.31)\n",
      "Requirement already satisfied: google_auth_oauthlib in c:\\repos\\aicourse\\personalfinanceagent\\venv\\lib\\site-packages (1.2.1)\n",
      "Requirement already satisfied: google-auth>=2.15.0 in c:\\repos\\aicourse\\personalfinanceagent\\venv\\lib\\site-packages (from google_auth_oauthlib) (2.39.0)\n",
      "Requirement already satisfied: requests-oauthlib>=0.7.0 in c:\\repos\\aicourse\\personalfinanceagent\\venv\\lib\\site-packages (from google_auth_oauthlib) (2.0.0)\n",
      "Requirement already satisfied: cachetools<6.0,>=2.0.0 in c:\\repos\\aicourse\\personalfinanceagent\\venv\\lib\\site-packages (from google-auth>=2.15.0->google_auth_oauthlib) (5.5.2)\n",
      "Requirement already satisfied: pyasn1-modules>=0.2.1 in c:\\repos\\aicourse\\personalfinanceagent\\venv\\lib\\site-packages (from google-auth>=2.15.0->google_auth_oauthlib) (0.4.2)\n",
      "Requirement already satisfied: rsa<5,>=3.1.4 in c:\\repos\\aicourse\\personalfinanceagent\\venv\\lib\\site-packages (from google-auth>=2.15.0->google_auth_oauthlib) (4.9.1)\n",
      "Requirement already satisfied: oauthlib>=3.0.0 in c:\\repos\\aicourse\\personalfinanceagent\\venv\\lib\\site-packages (from requests-oauthlib>=0.7.0->google_auth_oauthlib) (3.2.2)\n",
      "Requirement already satisfied: requests>=2.0.0 in c:\\repos\\aicourse\\personalfinanceagent\\venv\\lib\\site-packages (from requests-oauthlib>=0.7.0->google_auth_oauthlib) (2.32.3)\n",
      "Requirement already satisfied: pyasn1<0.7.0,>=0.6.1 in c:\\repos\\aicourse\\personalfinanceagent\\venv\\lib\\site-packages (from pyasn1-modules>=0.2.1->google-auth>=2.15.0->google_auth_oauthlib) (0.6.1)\n",
      "Requirement already satisfied: charset-normalizer<4,>=2 in c:\\repos\\aicourse\\personalfinanceagent\\venv\\lib\\site-packages (from requests>=2.0.0->requests-oauthlib>=0.7.0->google_auth_oauthlib) (3.4.1)\n",
      "Requirement already satisfied: idna<4,>=2.5 in c:\\repos\\aicourse\\personalfinanceagent\\venv\\lib\\site-packages (from requests>=2.0.0->requests-oauthlib>=0.7.0->google_auth_oauthlib) (3.10)\n",
      "Requirement already satisfied: urllib3<3,>=1.21.1 in c:\\repos\\aicourse\\personalfinanceagent\\venv\\lib\\site-packages (from requests>=2.0.0->requests-oauthlib>=0.7.0->google_auth_oauthlib) (2.4.0)\n",
      "Requirement already satisfied: certifi>=2017.4.17 in c:\\repos\\aicourse\\personalfinanceagent\\venv\\lib\\site-packages (from requests>=2.0.0->requests-oauthlib>=0.7.0->google_auth_oauthlib) (2025.1.31)\n",
      "Requirement already satisfied: beautifulsoup4 in c:\\repos\\aicourse\\personalfinanceagent\\venv\\lib\\site-packages (4.13.4)\n",
      "Requirement already satisfied: soupsieve>1.2 in c:\\repos\\aicourse\\personalfinanceagent\\venv\\lib\\site-packages (from beautifulsoup4) (2.7)\n",
      "Requirement already satisfied: typing-extensions>=4.0.0 in c:\\repos\\aicourse\\personalfinanceagent\\venv\\lib\\site-packages (from beautifulsoup4) (4.13.2)\n",
      "Using Azure OpenAI service\n",
      "Kernel created successfully for the email claissifier agent!\n",
      "Initializing EmailPlugin.\n",
      "Service settings updated: Temperature set to 0.7\n",
      "Agent 'EmailClassifierAgent' created successfully!\n"
     ]
    }
   ],
   "source": [
    "%run \"C:\\Repos\\AICourse\\PersonalFinanceAgent\\agents\\email_classifier_agent.ipynb\""
   ]
  },
  {
   "cell_type": "code",
   "execution_count": 2,
   "id": "2cb480ff",
   "metadata": {},
   "outputs": [],
   "source": [
    "from semantic_kernel.agents import ChatHistoryAgentThread"
   ]
  },
  {
   "cell_type": "code",
   "execution_count": 3,
   "id": "edbf90cc",
   "metadata": {},
   "outputs": [],
   "source": [
    "import ast\n",
    "from semantic_kernel.contents.function_call_content import FunctionCallContent\n",
    "from semantic_kernel.contents.function_result_content import FunctionResultContent\n",
    "\n",
    "# Create a chat function\n",
    "async def chat(agent, thread, question):\n",
    "    print(f\"\\nUser: {question}\")\n",
    "\n",
    "    # Use invoke to see the full process including function calls\n",
    "    function_calls = []\n",
    "    function_results = []\n",
    "\n",
    "    response = await agent.get_response(messages=question, thread=thread)\n",
    "    thread = response.thread\n",
    "\n",
    "    # Fix: Use async for to iterate through the async generator\n",
    "    final_response = None\n",
    "    async for r in thread.get_messages():\n",
    "        for item in r.items:\n",
    "            if isinstance(item, FunctionCallContent):\n",
    "                function_call = item\n",
    "                function_calls.append(function_call)\n",
    "                print(f\"\\n{80 * '-'}\")\n",
    "                print(f\"Function call: {function_call.function_name}\")\n",
    "                print(f\"Arguments: {function_call.arguments}\")\n",
    "            elif isinstance(item, FunctionResultContent):\n",
    "                function_result = item\n",
    "                function_results.append(function_result)\n",
    "                print(f\"Function result: {function_result.result}\")\n",
    "                print(80 * \"-\")\n",
    "\n",
    "        final_response = r\n",
    "\n",
    "    # Get the final answer separately for clarity\n",
    "    start = final_response.content.find('[')\n",
    "    end = final_response.content.rfind(']') + 1\n",
    "    email_dict_str = final_response.content[start:end]\n",
    "\n",
    "    # Parse the string into a Python dictionary\n",
    "    classified_emails = ast.literal_eval(email_dict_str)\n",
    "    print(f\"Agent: \\n{classified_emails}\\n\")\n",
    "\n",
    "    return {\n",
    "        \"function_calls\": function_calls,\n",
    "        \"function_results\": function_results,\n",
    "        \"final_response\": final_response,\n",
    "    }"
   ]
  },
  {
   "cell_type": "code",
   "execution_count": 4,
   "id": "74983dd6",
   "metadata": {},
   "outputs": [
    {
     "name": "stdout",
     "output_type": "stream",
     "text": [
      "\n",
      "User: Please fetch and classify all my emails.\n",
      "Reading demo data file.\n",
      "Demo data file read successfully.\n",
      "\n",
      "--------------------------------------------------------------------------------\n",
      "Function call: get_user_emails\n",
      "Arguments: {}\n",
      "Function result: [{'subject': '[IMP]: Your Credit Score has ARRIVED!', 'sender': 'Team BankBazaar <creditreport+ratealert@bankbazaar.com>', 'date': '01 Oct 2024 12:27:04 +0530 (IST)', 'body': '', 'id': 1}, {'subject': 'Transaction on XYZ bank account', 'sender': 'tx@xyz.com', 'date': '04 Oct 2024 18:02:54 +0530', 'body': 'Transaction on XYZ bank account Rs. 900.00 on Oct 04, 2024 at 18:02:54. Info: ABC SUPERMARKET.', 'id': 2}, {'subject': \"Feb mutual fund investment data, L&T's large contract, & more - Groww Digest\", 'sender': 'Groww Digest <noreply@digest.groww.in>', 'date': '11 Oct 2024 02:15:45 +0530', 'body': '', 'id': 3}, {'subject': 'Transaction on XYZ bank account', 'sender': 'tx@xyz.com', 'date': '06 Oct 2024 13:28:49 +0530', 'body': 'Transaction on XYZ bank account Rs. 2,000.00 on Oct 06, 2024 at 13:28:49. Info: Amazon Shopping.', 'id': 4}, {'subject': 'Order ABCD1234 has been confirmed', 'sender': 'order@amazon.com', 'date': '06 Oct 2024 13:29:01 +0530', 'body': 'Your order ABCD1234 for purchase of Cosco Volleyball has been confirmed at INR 1,234. You will be notified once it is shipped.', 'id': 5}, {'subject': 'Order ABCD5678 has been confirmed', 'sender': 'order@amazon.com', 'date': '06 Oct 2024 13:30:17 +0530', 'body': 'Your order ABCD5678 for purchase of EFG tshirt has been confirmed at INR 766. You will be notified once it is shipped.', 'id': 6}, {'subject': 'Purchase made on LMN card', 'sender': 'purchase@lmn.com', 'date': '09 Oct 2024 22:46:36 +0530', 'body': 'Purchase made on LMN card for INR 5,000.00 on Oct 09, 2024 at 22:46:36. Info: Booking.com.', 'id': 7}, {'subject': 'Your travel booking PQR to DEF has been confirmed', 'sender': 'book@booking.com', 'date': '09 Oct 2024 22:45:57 +0530', 'body': 'JKL Airlines booking from PQR to DEF has been confirmed. Please reach out to the airline for any further queries.', 'id': 8}, {'subject': \"What's next after Holi? 🤔\", 'sender': 'Swiggy Dineout <no-reply@swiggy.in>', 'date': '12 Oct 2025 19:36:29 +0530', 'body': 'Email Template                             --Click Here to unsubscribe from this newsletter.', 'id': 9}, {'subject': 'Purchase made on XYZ card', 'sender': 'cards@xyz.com', 'date': '12 Oct 2024 15:10:38 +0530', 'body': 'Transaction on XYZ bank account Rs. 200.00 on Oct 12, 2024 at 15:10:38. Info: Medicare House Pvt. Ltd.', 'id': 10}]\n",
      "--------------------------------------------------------------------------------\n",
      "Agent: \n",
      "[{'id': 1, 'subject': '[IMP]: Your Credit Score has ARRIVED!', 'sender': 'Team BankBazaar <creditreport+ratealert@bankbazaar.com>', 'date': '01 Oct 2024 12:27:04 +0530 (IST)', 'body': '', 'email_classification': 'Finance'}, {'id': 2, 'subject': 'Transaction on XYZ bank account', 'sender': 'tx@xyz.com', 'date': '04 Oct 2024 18:02:54 +0530', 'body': 'Transaction on XYZ bank account Rs. 900.00 on Oct 04, 2024 at 18:02:54. Info: ABC SUPERMARKET.', 'email_classification': 'Finance'}, {'id': 3, 'subject': \"Feb mutual fund investment data, L&T's large contract, & more - Groww Digest\", 'sender': 'Groww Digest <noreply@digest.groww.in>', 'date': '11 Oct 2024 02:15:45 +0530', 'body': '', 'email_classification': 'Finance'}, {'id': 4, 'subject': 'Transaction on XYZ bank account', 'sender': 'tx@xyz.com', 'date': '06 Oct 2024 13:28:49 +0530', 'body': 'Transaction on XYZ bank account Rs. 2,000.00 on Oct 06, 2024 at 13:28:49. Info: Amazon Shopping.', 'email_classification': 'Finance'}, {'id': 5, 'subject': 'Order ABCD1234 has been confirmed', 'sender': 'order@amazon.com', 'date': '06 Oct 2024 13:29:01 +0530', 'body': 'Your order ABCD1234 for purchase of Cosco Volleyball has been confirmed at INR 1,234. You will be notified once it is shipped.', 'email_classification': 'Finance'}, {'id': 6, 'subject': 'Order ABCD5678 has been confirmed', 'sender': 'order@amazon.com', 'date': '06 Oct 2024 13:30:17 +0530', 'body': 'Your order ABCD5678 for purchase of EFG tshirt has been confirmed at INR 766. You will be notified once it is shipped.', 'email_classification': 'Finance'}, {'id': 7, 'subject': 'Purchase made on LMN card', 'sender': 'purchase@lmn.com', 'date': '09 Oct 2024 22:46:36 +0530', 'body': 'Purchase made on LMN card for INR 5,000.00 on Oct 09, 2024 at 22:46:36. Info: Booking.com.', 'email_classification': 'Finance'}, {'id': 8, 'subject': 'Your travel booking PQR to DEF has been confirmed', 'sender': 'book@booking.com', 'date': '09 Oct 2024 22:45:57 +0530', 'body': 'JKL Airlines booking from PQR to DEF has been confirmed. Please reach out to the airline for any further queries.', 'email_classification': 'Non-Finance'}, {'id': 9, 'subject': \"What's next after Holi? 🤔\", 'sender': 'Swiggy Dineout <no-reply@swiggy.in>', 'date': '12 Oct 2025 19:36:29 +0530', 'body': 'Email Template                             --Click Here to unsubscribe from this newsletter.', 'email_classification': 'Non-Finance'}, {'id': 10, 'subject': 'Purchase made on XYZ card', 'sender': 'cards@xyz.com', 'date': '12 Oct 2024 15:10:38 +0530', 'body': 'Transaction on XYZ bank account Rs. 200.00 on Oct 12, 2024 at 15:10:38. Info: Medicare House Pvt. Ltd.', 'email_classification': 'Finance'}]\n",
      "\n"
     ]
    }
   ],
   "source": [
    "# Test with different questions\n",
    "questions = [\n",
    "    \"Please fetch and classify all my emails.\",\n",
    "]\n",
    "\n",
    "# Test each question\n",
    "for question in questions:\n",
    "    # Create a chat history\n",
    "    thread: ChatHistoryAgentThread = None\n",
    "    await chat(email_classifier_agent, thread, question)"
   ]
  }
 ],
 "metadata": {
  "kernelspec": {
   "display_name": "venv",
   "language": "python",
   "name": "python3"
  },
  "language_info": {
   "codemirror_mode": {
    "name": "ipython",
    "version": 3
   },
   "file_extension": ".py",
   "mimetype": "text/x-python",
   "name": "python",
   "nbconvert_exporter": "python",
   "pygments_lexer": "ipython3",
   "version": "3.12.10"
  }
 },
 "nbformat": 4,
 "nbformat_minor": 5
}
