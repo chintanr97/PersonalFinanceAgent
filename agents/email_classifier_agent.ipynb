{
 "cells": [
  {
   "cell_type": "code",
   "execution_count": null,
   "id": "1699adcf",
   "metadata": {},
   "outputs": [],
   "source": [
    "%run \"C:\\Repos\\AICourse\\PersonalFinanceAgent\\plugins\\email_plugin\\email_plugin.ipynb\""
   ]
  },
  {
   "cell_type": "markdown",
   "id": "dbe9d1da",
   "metadata": {},
   "source": [
    "## Semantic Kernel"
   ]
  },
  {
   "cell_type": "code",
   "execution_count": null,
   "id": "ef325a76",
   "metadata": {},
   "outputs": [],
   "source": [
    "import os\n",
    "import asyncio\n",
    "from dotenv import load_dotenv\n",
    "\n",
    "# Import Semantic Kernel components\n",
    "import semantic_kernel as sk\n",
    "from semantic_kernel.agents import ChatCompletionAgent\n",
    "from semantic_kernel.connectors.ai.open_ai import (\n",
    "    AzureChatCompletion,\n",
    "    OpenAIChatCompletion,\n",
    ")\n",
    "from semantic_kernel.contents import ChatHistory, ChatMessageContent\n",
    "from semantic_kernel.contents.utils.author_role import AuthorRole\n",
    "from semantic_kernel.functions import KernelArguments\n",
    "\n",
    "from semantic_kernel.contents.function_call_content import FunctionCallContent\n",
    "from semantic_kernel.contents.function_result_content import FunctionResultContent\n",
    "\n",
    "from semantic_kernel.agents import (\n",
    "    ChatCompletionAgent,\n",
    "    ChatHistoryAgentThread,\n",
    ")\n",
    "from semantic_kernel.connectors.ai.function_choice_behavior import (\n",
    "    FunctionChoiceBehavior,\n",
    ")\n",
    "\n",
    "from rich.console import Console\n",
    "console = Console()\n",
    "\n",
    "# Load environment variables from .env file\n",
    "load_dotenv(\"../.env\", override=True)"
   ]
  },
  {
   "cell_type": "code",
   "execution_count": null,
   "id": "38335c20",
   "metadata": {},
   "outputs": [],
   "source": [
    "def create_kernel_with_service(service_id=\"default\"):\n",
    "    \"\"\"Create a kernel with either Azure OpenAI or OpenAI service based on available credentials.\"\"\"\n",
    "    kernel = sk.Kernel()\n",
    "\n",
    "    # Try to use Azure OpenAI first\n",
    "    if (\n",
    "        os.getenv(\"AZURE_OPENAI_API_KEY\")\n",
    "        and os.getenv(\"AZURE_OPENAI_ENDPOINT\")\n",
    "        and os.getenv(\"AZURE_OPENAI_DEPLOYMENT_NAME\")\n",
    "    ):\n",
    "        print(\"Using Azure OpenAI service\")\n",
    "        kernel.add_service(\n",
    "            AzureChatCompletion(\n",
    "                service_id=service_id,\n",
    "                deployment_name=os.getenv(\"AZURE_OPENAI_DEPLOYMENT_NAME\"),\n",
    "                endpoint=os.getenv(\"AZURE_OPENAI_ENDPOINT\"),\n",
    "                api_key=os.getenv(\"AZURE_OPENAI_API_KEY\"),\n",
    "            )\n",
    "        )\n",
    "    # Fall back to OpenAI\n",
    "    elif os.getenv(\"OPENAI_API_KEY\"):\n",
    "        print(\"Using OpenAI service\")\n",
    "        kernel.add_service(\n",
    "            OpenAIChatCompletion(\n",
    "                service_id=service_id,\n",
    "                api_key=os.getenv(\"OPENAI_API_KEY\"),\n",
    "                ai_model_id=\"gpt-4\",\n",
    "            )\n",
    "        )\n",
    "    else:\n",
    "        raise ValueError(\n",
    "            \"No AI service credentials found. Please set up your .env file.\"\n",
    "        )\n",
    "\n",
    "    return kernel"
   ]
  },
  {
   "cell_type": "code",
   "execution_count": null,
   "id": "33f6fae4",
   "metadata": {},
   "outputs": [],
   "source": [
    "# Create our first kernel with a service ID\n",
    "email_classifier_service_id = \"email_classifier\"\n",
    "email_claissifier_kernel = create_kernel_with_service(service_id=email_classifier_service_id)\n",
    "print(\"Kernel created successfully for the email claissifier agent!\")"
   ]
  },
  {
   "cell_type": "code",
   "execution_count": null,
   "id": "2222a0af",
   "metadata": {},
   "outputs": [],
   "source": [
    "email_claissifier_kernel.add_plugin(EmailPlugin(), plugin_name=\"emails\")"
   ]
  },
  {
   "cell_type": "code",
   "execution_count": null,
   "id": "bc30d814",
   "metadata": {},
   "outputs": [],
   "source": [
    "# Get the execution settings for our service\n",
    "email_claissifier_settings = email_claissifier_kernel.get_prompt_execution_settings_from_service_id(service_id=email_classifier_service_id)\n",
    "\n",
    "# Configure automatic function calling\n",
    "email_claissifier_settings.function_choice_behavior = FunctionChoiceBehavior.Auto()\n",
    "\n",
    "## Set the service settings for the agent\n",
    "using_gpt_4o = True\n",
    "\n",
    "# Example: Adjust the temperature for more creative outputs -- NOTE: RUN THE BELOW ONLY IF YOU ARE USING GPT-4o\n",
    "if using_gpt_4o:\n",
    "    email_claissifier_settings.temperature = 0.7\n",
    "    print(f\"Service settings updated: Temperature set to {email_claissifier_settings.temperature}\")\n",
    "else:  # NOTE: RUN THE BELOW ONLY IF YOU ARE USING o1 or o3-mini\n",
    "    email_claissifier_settings.reasoning_effort = \"low\"\n",
    "    print(\n",
    "        f\"Service settings updated: Reasoning Effort set to {email_claissifier_settings.reasoning_effort}\"\n",
    "    )   "
   ]
  },
  {
   "cell_type": "code",
   "execution_count": null,
   "id": "2b043be0",
   "metadata": {},
   "outputs": [],
   "source": [
    "# Create a simple assistant agent\n",
    "EMAIL_CLASSIFIER_AGENT_NAME = \"EmailClassifierAgent\"\n",
    "EMAIL_CLASSIFIER_AGENT_INSTRUCTIONS =\"\"\"\n",
    "You are a email classifier agent that can identify the category of emails as \"Finance\", \"Non-Finance\", or \"Not classifiable\". Ideally you should clearly identify if the emails are finance related or not.\n",
    "\n",
    "You fetch the emails of the user using the plugin with each email having properties of id, subject, sender, date, and body. Some of these emails contain information about the user's financial transactions and other emails related to the same. For example financial transactions could be in the form of bank transaction alerts or credit card transaction alerts, etc. and other transaction info could be in the form of emails from different providers like Amazon, Flipkart, Netflix, etc. These all emails will help the user later identify the behavior of expenditure based on every area/category they spend in.  You should be able to understand such transactions or related emails as described and filter out the same by tagging them as \"Finance\", \"Non-Finance\", or \"Not classifiable\" emails. Please note that the finance analyst agent will then use this information from you to provide a summary of the user's spend within the month based on categories and sources of payment.\n",
    "\n",
    "Output: A JSON list of emails having each email with properties of id, subject, sender, date, body, and category of email as classified with key of `email_classification`. The value of `email_classification` should be either \"Finance\", \"Non-Finance\", or \"Not classifiable\".\n",
    "\"\"\"\n",
    "email_classifier_agent = ChatCompletionAgent(\n",
    "    kernel=email_claissifier_kernel,\n",
    "    name=EMAIL_CLASSIFIER_AGENT_NAME,\n",
    "    instructions=EMAIL_CLASSIFIER_AGENT_INSTRUCTIONS,\n",
    ")\n",
    "\n",
    "print(f\"Agent '{email_classifier_agent.name}' created successfully!\")"
   ]
  }
 ],
 "metadata": {
  "kernelspec": {
   "display_name": "venv",
   "language": "python",
   "name": "python3"
  },
  "language_info": {
   "codemirror_mode": {
    "name": "ipython",
    "version": 3
   },
   "file_extension": ".py",
   "mimetype": "text/x-python",
   "name": "python",
   "nbconvert_exporter": "python",
   "pygments_lexer": "ipython3",
   "version": "3.12.10"
  }
 },
 "nbformat": 4,
 "nbformat_minor": 5
}
